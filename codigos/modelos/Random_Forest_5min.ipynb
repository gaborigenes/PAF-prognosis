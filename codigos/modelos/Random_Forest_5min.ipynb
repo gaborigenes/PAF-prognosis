{
  "nbformat": 4,
  "nbformat_minor": 0,
  "metadata": {
    "colab": {
      "provenance": []
    },
    "kernelspec": {
      "name": "python3",
      "display_name": "Python 3"
    },
    "language_info": {
      "name": "python"
    }
  },
  "cells": [
    {
      "cell_type": "code",
      "execution_count": null,
      "metadata": {
        "id": "ve8Tpoi68cVF"
      },
      "outputs": [],
      "source": [
        "import numpy as np\n",
        "import pandas as pd\n",
        "import matplotlib.pyplot as plt\n",
        "import seaborn as sns\n",
        "from sklearn.model_selection import train_test_split\n",
        "from sklearn.ensemble import RandomForestClassifier\n",
        "from sklearn.model_selection import GridSearchCV\n",
        "from sklearn.tree import plot_tree\n",
        "from sklearn.metrics import (\n",
        "    accuracy_score,\n",
        "    f1_score,\n",
        "    confusion_matrix,\n",
        "    precision_score,\n",
        "    recall_score,\n",
        "    )\n",
        "%matplotlib inline\n",
        "import joblib"
      ]
    },
    {
      "cell_type": "code",
      "source": [
        "df = pd.read_csv('5min_normalizado.csv')\n",
        "X = df[['rr_mean_boxcox','sdrr_boxcox','sdsd_boxcox','dam_boxcox','vlf_boxcox','lf_boxcox','lfhf_boxcox','sd2_boxcox','sd12_boxcox',\n",
        "        'lmax_boxcox','captura_boxcox','determinismo_boxcox','rec_yj']]\n",
        "y = df['etiqueta']"
      ],
      "metadata": {
        "id": "rnhNwAq8AtHc"
      },
      "execution_count": null,
      "outputs": []
    },
    {
      "cell_type": "code",
      "source": [
        "X.head()"
      ],
      "metadata": {
        "colab": {
          "base_uri": "https://localhost:8080/",
          "height": 226
        },
        "id": "ZXaJux57FVQM",
        "outputId": "3eb6d8ba-0bd3-4639-8d58-abe39665d574"
      },
      "execution_count": null,
      "outputs": [
        {
          "output_type": "execute_result",
          "data": {
            "text/plain": [
              "   rr_mean_boxcox  sdrr_boxcox  sdsd_boxcox  dam_boxcox  vlf_boxcox  \\\n",
              "0       -0.280933     5.097232     2.960859   -1.099935    9.102838   \n",
              "1       -0.109598     3.690365     2.104805   -2.277396    6.571805   \n",
              "2        0.018828     4.602020     2.115362   -2.003500    7.795050   \n",
              "3       -0.539421     4.510982     1.899869   -2.644426    7.735285   \n",
              "4       -0.211150     4.763498     2.756861   -1.745057    7.959402   \n",
              "\n",
              "   lf_boxcox  lfhf_boxcox  sd2_boxcox  sd12_boxcox  lmax_boxcox  \\\n",
              "0  11.176447    -0.111068    5.558648     0.941409     1.499616   \n",
              "1   6.535246     0.588095    4.091693     0.961920     1.417119   \n",
              "2   5.838635     0.205371    5.113749     1.825696     1.507699   \n",
              "3   6.857080     1.616174    5.021604     1.835244     1.594152   \n",
              "4  10.144903     0.410116    5.232907     1.079438     1.463625   \n",
              "\n",
              "   captura_boxcox  determinismo_boxcox         rec_yj  \n",
              "0        0.848432            -0.083504  135001.766676  \n",
              "1        0.752925            -0.107539  106205.100722  \n",
              "2        0.867964            -0.079101   83532.173751  \n",
              "3        0.974520            -0.039826  106205.100722  \n",
              "4        1.031915            -0.043586  135001.766676  "
            ],
            "text/html": [
              "\n",
              "  <div id=\"df-c674867f-fab3-4223-b813-802f7aa6efca\" class=\"colab-df-container\">\n",
              "    <div>\n",
              "<style scoped>\n",
              "    .dataframe tbody tr th:only-of-type {\n",
              "        vertical-align: middle;\n",
              "    }\n",
              "\n",
              "    .dataframe tbody tr th {\n",
              "        vertical-align: top;\n",
              "    }\n",
              "\n",
              "    .dataframe thead th {\n",
              "        text-align: right;\n",
              "    }\n",
              "</style>\n",
              "<table border=\"1\" class=\"dataframe\">\n",
              "  <thead>\n",
              "    <tr style=\"text-align: right;\">\n",
              "      <th></th>\n",
              "      <th>rr_mean_boxcox</th>\n",
              "      <th>sdrr_boxcox</th>\n",
              "      <th>sdsd_boxcox</th>\n",
              "      <th>dam_boxcox</th>\n",
              "      <th>vlf_boxcox</th>\n",
              "      <th>lf_boxcox</th>\n",
              "      <th>lfhf_boxcox</th>\n",
              "      <th>sd2_boxcox</th>\n",
              "      <th>sd12_boxcox</th>\n",
              "      <th>lmax_boxcox</th>\n",
              "      <th>captura_boxcox</th>\n",
              "      <th>determinismo_boxcox</th>\n",
              "      <th>rec_yj</th>\n",
              "    </tr>\n",
              "  </thead>\n",
              "  <tbody>\n",
              "    <tr>\n",
              "      <th>0</th>\n",
              "      <td>-0.280933</td>\n",
              "      <td>5.097232</td>\n",
              "      <td>2.960859</td>\n",
              "      <td>-1.099935</td>\n",
              "      <td>9.102838</td>\n",
              "      <td>11.176447</td>\n",
              "      <td>-0.111068</td>\n",
              "      <td>5.558648</td>\n",
              "      <td>0.941409</td>\n",
              "      <td>1.499616</td>\n",
              "      <td>0.848432</td>\n",
              "      <td>-0.083504</td>\n",
              "      <td>135001.766676</td>\n",
              "    </tr>\n",
              "    <tr>\n",
              "      <th>1</th>\n",
              "      <td>-0.109598</td>\n",
              "      <td>3.690365</td>\n",
              "      <td>2.104805</td>\n",
              "      <td>-2.277396</td>\n",
              "      <td>6.571805</td>\n",
              "      <td>6.535246</td>\n",
              "      <td>0.588095</td>\n",
              "      <td>4.091693</td>\n",
              "      <td>0.961920</td>\n",
              "      <td>1.417119</td>\n",
              "      <td>0.752925</td>\n",
              "      <td>-0.107539</td>\n",
              "      <td>106205.100722</td>\n",
              "    </tr>\n",
              "    <tr>\n",
              "      <th>2</th>\n",
              "      <td>0.018828</td>\n",
              "      <td>4.602020</td>\n",
              "      <td>2.115362</td>\n",
              "      <td>-2.003500</td>\n",
              "      <td>7.795050</td>\n",
              "      <td>5.838635</td>\n",
              "      <td>0.205371</td>\n",
              "      <td>5.113749</td>\n",
              "      <td>1.825696</td>\n",
              "      <td>1.507699</td>\n",
              "      <td>0.867964</td>\n",
              "      <td>-0.079101</td>\n",
              "      <td>83532.173751</td>\n",
              "    </tr>\n",
              "    <tr>\n",
              "      <th>3</th>\n",
              "      <td>-0.539421</td>\n",
              "      <td>4.510982</td>\n",
              "      <td>1.899869</td>\n",
              "      <td>-2.644426</td>\n",
              "      <td>7.735285</td>\n",
              "      <td>6.857080</td>\n",
              "      <td>1.616174</td>\n",
              "      <td>5.021604</td>\n",
              "      <td>1.835244</td>\n",
              "      <td>1.594152</td>\n",
              "      <td>0.974520</td>\n",
              "      <td>-0.039826</td>\n",
              "      <td>106205.100722</td>\n",
              "    </tr>\n",
              "    <tr>\n",
              "      <th>4</th>\n",
              "      <td>-0.211150</td>\n",
              "      <td>4.763498</td>\n",
              "      <td>2.756861</td>\n",
              "      <td>-1.745057</td>\n",
              "      <td>7.959402</td>\n",
              "      <td>10.144903</td>\n",
              "      <td>0.410116</td>\n",
              "      <td>5.232907</td>\n",
              "      <td>1.079438</td>\n",
              "      <td>1.463625</td>\n",
              "      <td>1.031915</td>\n",
              "      <td>-0.043586</td>\n",
              "      <td>135001.766676</td>\n",
              "    </tr>\n",
              "  </tbody>\n",
              "</table>\n",
              "</div>\n",
              "    <div class=\"colab-df-buttons\">\n",
              "\n",
              "  <div class=\"colab-df-container\">\n",
              "    <button class=\"colab-df-convert\" onclick=\"convertToInteractive('df-c674867f-fab3-4223-b813-802f7aa6efca')\"\n",
              "            title=\"Convert this dataframe to an interactive table.\"\n",
              "            style=\"display:none;\">\n",
              "\n",
              "  <svg xmlns=\"http://www.w3.org/2000/svg\" height=\"24px\" viewBox=\"0 -960 960 960\">\n",
              "    <path d=\"M120-120v-720h720v720H120Zm60-500h600v-160H180v160Zm220 220h160v-160H400v160Zm0 220h160v-160H400v160ZM180-400h160v-160H180v160Zm440 0h160v-160H620v160ZM180-180h160v-160H180v160Zm440 0h160v-160H620v160Z\"/>\n",
              "  </svg>\n",
              "    </button>\n",
              "\n",
              "  <style>\n",
              "    .colab-df-container {\n",
              "      display:flex;\n",
              "      gap: 12px;\n",
              "    }\n",
              "\n",
              "    .colab-df-convert {\n",
              "      background-color: #E8F0FE;\n",
              "      border: none;\n",
              "      border-radius: 50%;\n",
              "      cursor: pointer;\n",
              "      display: none;\n",
              "      fill: #1967D2;\n",
              "      height: 32px;\n",
              "      padding: 0 0 0 0;\n",
              "      width: 32px;\n",
              "    }\n",
              "\n",
              "    .colab-df-convert:hover {\n",
              "      background-color: #E2EBFA;\n",
              "      box-shadow: 0px 1px 2px rgba(60, 64, 67, 0.3), 0px 1px 3px 1px rgba(60, 64, 67, 0.15);\n",
              "      fill: #174EA6;\n",
              "    }\n",
              "\n",
              "    .colab-df-buttons div {\n",
              "      margin-bottom: 4px;\n",
              "    }\n",
              "\n",
              "    [theme=dark] .colab-df-convert {\n",
              "      background-color: #3B4455;\n",
              "      fill: #D2E3FC;\n",
              "    }\n",
              "\n",
              "    [theme=dark] .colab-df-convert:hover {\n",
              "      background-color: #434B5C;\n",
              "      box-shadow: 0px 1px 3px 1px rgba(0, 0, 0, 0.15);\n",
              "      filter: drop-shadow(0px 1px 2px rgba(0, 0, 0, 0.3));\n",
              "      fill: #FFFFFF;\n",
              "    }\n",
              "  </style>\n",
              "\n",
              "    <script>\n",
              "      const buttonEl =\n",
              "        document.querySelector('#df-c674867f-fab3-4223-b813-802f7aa6efca button.colab-df-convert');\n",
              "      buttonEl.style.display =\n",
              "        google.colab.kernel.accessAllowed ? 'block' : 'none';\n",
              "\n",
              "      async function convertToInteractive(key) {\n",
              "        const element = document.querySelector('#df-c674867f-fab3-4223-b813-802f7aa6efca');\n",
              "        const dataTable =\n",
              "          await google.colab.kernel.invokeFunction('convertToInteractive',\n",
              "                                                    [key], {});\n",
              "        if (!dataTable) return;\n",
              "\n",
              "        const docLinkHtml = 'Like what you see? Visit the ' +\n",
              "          '<a target=\"_blank\" href=https://colab.research.google.com/notebooks/data_table.ipynb>data table notebook</a>'\n",
              "          + ' to learn more about interactive tables.';\n",
              "        element.innerHTML = '';\n",
              "        dataTable['output_type'] = 'display_data';\n",
              "        await google.colab.output.renderOutput(dataTable, element);\n",
              "        const docLink = document.createElement('div');\n",
              "        docLink.innerHTML = docLinkHtml;\n",
              "        element.appendChild(docLink);\n",
              "      }\n",
              "    </script>\n",
              "  </div>\n",
              "\n",
              "\n",
              "<div id=\"df-af31e321-6270-45f2-aa30-f5ed717d8e01\">\n",
              "  <button class=\"colab-df-quickchart\" onclick=\"quickchart('df-af31e321-6270-45f2-aa30-f5ed717d8e01')\"\n",
              "            title=\"Suggest charts\"\n",
              "            style=\"display:none;\">\n",
              "\n",
              "<svg xmlns=\"http://www.w3.org/2000/svg\" height=\"24px\"viewBox=\"0 0 24 24\"\n",
              "     width=\"24px\">\n",
              "    <g>\n",
              "        <path d=\"M19 3H5c-1.1 0-2 .9-2 2v14c0 1.1.9 2 2 2h14c1.1 0 2-.9 2-2V5c0-1.1-.9-2-2-2zM9 17H7v-7h2v7zm4 0h-2V7h2v10zm4 0h-2v-4h2v4z\"/>\n",
              "    </g>\n",
              "</svg>\n",
              "  </button>\n",
              "\n",
              "<style>\n",
              "  .colab-df-quickchart {\n",
              "      --bg-color: #E8F0FE;\n",
              "      --fill-color: #1967D2;\n",
              "      --hover-bg-color: #E2EBFA;\n",
              "      --hover-fill-color: #174EA6;\n",
              "      --disabled-fill-color: #AAA;\n",
              "      --disabled-bg-color: #DDD;\n",
              "  }\n",
              "\n",
              "  [theme=dark] .colab-df-quickchart {\n",
              "      --bg-color: #3B4455;\n",
              "      --fill-color: #D2E3FC;\n",
              "      --hover-bg-color: #434B5C;\n",
              "      --hover-fill-color: #FFFFFF;\n",
              "      --disabled-bg-color: #3B4455;\n",
              "      --disabled-fill-color: #666;\n",
              "  }\n",
              "\n",
              "  .colab-df-quickchart {\n",
              "    background-color: var(--bg-color);\n",
              "    border: none;\n",
              "    border-radius: 50%;\n",
              "    cursor: pointer;\n",
              "    display: none;\n",
              "    fill: var(--fill-color);\n",
              "    height: 32px;\n",
              "    padding: 0;\n",
              "    width: 32px;\n",
              "  }\n",
              "\n",
              "  .colab-df-quickchart:hover {\n",
              "    background-color: var(--hover-bg-color);\n",
              "    box-shadow: 0 1px 2px rgba(60, 64, 67, 0.3), 0 1px 3px 1px rgba(60, 64, 67, 0.15);\n",
              "    fill: var(--button-hover-fill-color);\n",
              "  }\n",
              "\n",
              "  .colab-df-quickchart-complete:disabled,\n",
              "  .colab-df-quickchart-complete:disabled:hover {\n",
              "    background-color: var(--disabled-bg-color);\n",
              "    fill: var(--disabled-fill-color);\n",
              "    box-shadow: none;\n",
              "  }\n",
              "\n",
              "  .colab-df-spinner {\n",
              "    border: 2px solid var(--fill-color);\n",
              "    border-color: transparent;\n",
              "    border-bottom-color: var(--fill-color);\n",
              "    animation:\n",
              "      spin 1s steps(1) infinite;\n",
              "  }\n",
              "\n",
              "  @keyframes spin {\n",
              "    0% {\n",
              "      border-color: transparent;\n",
              "      border-bottom-color: var(--fill-color);\n",
              "      border-left-color: var(--fill-color);\n",
              "    }\n",
              "    20% {\n",
              "      border-color: transparent;\n",
              "      border-left-color: var(--fill-color);\n",
              "      border-top-color: var(--fill-color);\n",
              "    }\n",
              "    30% {\n",
              "      border-color: transparent;\n",
              "      border-left-color: var(--fill-color);\n",
              "      border-top-color: var(--fill-color);\n",
              "      border-right-color: var(--fill-color);\n",
              "    }\n",
              "    40% {\n",
              "      border-color: transparent;\n",
              "      border-right-color: var(--fill-color);\n",
              "      border-top-color: var(--fill-color);\n",
              "    }\n",
              "    60% {\n",
              "      border-color: transparent;\n",
              "      border-right-color: var(--fill-color);\n",
              "    }\n",
              "    80% {\n",
              "      border-color: transparent;\n",
              "      border-right-color: var(--fill-color);\n",
              "      border-bottom-color: var(--fill-color);\n",
              "    }\n",
              "    90% {\n",
              "      border-color: transparent;\n",
              "      border-bottom-color: var(--fill-color);\n",
              "    }\n",
              "  }\n",
              "</style>\n",
              "\n",
              "  <script>\n",
              "    async function quickchart(key) {\n",
              "      const quickchartButtonEl =\n",
              "        document.querySelector('#' + key + ' button');\n",
              "      quickchartButtonEl.disabled = true;  // To prevent multiple clicks.\n",
              "      quickchartButtonEl.classList.add('colab-df-spinner');\n",
              "      try {\n",
              "        const charts = await google.colab.kernel.invokeFunction(\n",
              "            'suggestCharts', [key], {});\n",
              "      } catch (error) {\n",
              "        console.error('Error during call to suggestCharts:', error);\n",
              "      }\n",
              "      quickchartButtonEl.classList.remove('colab-df-spinner');\n",
              "      quickchartButtonEl.classList.add('colab-df-quickchart-complete');\n",
              "    }\n",
              "    (() => {\n",
              "      let quickchartButtonEl =\n",
              "        document.querySelector('#df-af31e321-6270-45f2-aa30-f5ed717d8e01 button');\n",
              "      quickchartButtonEl.style.display =\n",
              "        google.colab.kernel.accessAllowed ? 'block' : 'none';\n",
              "    })();\n",
              "  </script>\n",
              "</div>\n",
              "\n",
              "    </div>\n",
              "  </div>\n"
            ],
            "application/vnd.google.colaboratory.intrinsic+json": {
              "type": "dataframe",
              "variable_name": "X",
              "summary": "{\n  \"name\": \"X\",\n  \"rows\": 408,\n  \"fields\": [\n    {\n      \"column\": \"rr_mean_boxcox\",\n      \"properties\": {\n        \"dtype\": \"number\",\n        \"std\": 0.18700604979128216,\n        \"min\": -0.7243580891370027,\n        \"max\": 0.1565883495166269,\n        \"num_unique_values\": 274,\n        \"samples\": [\n          -0.2410199379614273,\n          -0.0470517165419232,\n          -0.4707804829929497\n        ],\n        \"semantic_type\": \"\",\n        \"description\": \"\"\n      }\n    },\n    {\n      \"column\": \"sdrr_boxcox\",\n      \"properties\": {\n        \"dtype\": \"number\",\n        \"std\": 0.9860720096851429,\n        \"min\": 1.6597641468410893,\n        \"max\": 6.690694331830584,\n        \"num_unique_values\": 401,\n        \"samples\": [\n          4.161371690964055,\n          2.930060410990024,\n          2.1214338806304784\n        ],\n        \"semantic_type\": \"\",\n        \"description\": \"\"\n      }\n    },\n    {\n      \"column\": \"sdsd_boxcox\",\n      \"properties\": {\n        \"dtype\": \"number\",\n        \"std\": 0.5197053116638491,\n        \"min\": 1.3358218925761332,\n        \"max\": 3.563760684564192,\n        \"num_unique_values\": 399,\n        \"samples\": [\n          2.76318667236585,\n          2.990367192622708,\n          1.481568084470296\n        ],\n        \"semantic_type\": \"\",\n        \"description\": \"\"\n      }\n    },\n    {\n      \"column\": \"dam_boxcox\",\n      \"properties\": {\n        \"dtype\": \"number\",\n        \"std\": 0.6889134193268561,\n        \"min\": -3.933804527380061,\n        \"max\": -0.3416970950823238,\n        \"num_unique_values\": 209,\n        \"samples\": [\n          -1.3480428353213754,\n          -1.8776252277734669,\n          -0.9066181322879748\n        ],\n        \"semantic_type\": \"\",\n        \"description\": \"\"\n      }\n    },\n    {\n      \"column\": \"vlf_boxcox\",\n      \"properties\": {\n        \"dtype\": \"number\",\n        \"std\": 2.3321306149481735,\n        \"min\": 0.2694843260099944,\n        \"max\": 13.32206399354828,\n        \"num_unique_values\": 402,\n        \"samples\": [\n          10.042780720712187,\n          5.5187293521547325,\n          3.061459209320297\n        ],\n        \"semantic_type\": \"\",\n        \"description\": \"\"\n      }\n    },\n    {\n      \"column\": \"lf_boxcox\",\n      \"properties\": {\n        \"dtype\": \"number\",\n        \"std\": 3.2695473489153746,\n        \"min\": -0.3667139188390879,\n        \"max\": 16.59334527430225,\n        \"num_unique_values\": 402,\n        \"samples\": [\n          12.150020407672042,\n          8.644846131904998,\n          2.152464378525936\n        ],\n        \"semantic_type\": \"\",\n        \"description\": \"\"\n      }\n    },\n    {\n      \"column\": \"lfhf_boxcox\",\n      \"properties\": {\n        \"dtype\": \"number\",\n        \"std\": 1.232790187616816,\n        \"min\": -2.9217256820071875,\n        \"max\": 4.288156786673415,\n        \"num_unique_values\": 385,\n        \"samples\": [\n          0.4007810972951213,\n          0.3522928733246847,\n          -0.1044924630662432\n        ],\n        \"semantic_type\": \"\",\n        \"description\": \"\"\n      }\n    },\n    {\n      \"column\": \"sd2_boxcox\",\n      \"properties\": {\n        \"dtype\": \"number\",\n        \"std\": 1.0764485308610798,\n        \"min\": 1.7224502625529854,\n        \"max\": 7.239712239041666,\n        \"num_unique_values\": 402,\n        \"samples\": [\n          5.954308351688909,\n          4.789730575374861,\n          2.3392022643786663\n        ],\n        \"semantic_type\": \"\",\n        \"description\": \"\"\n      }\n    },\n    {\n      \"column\": \"sd12_boxcox\",\n      \"properties\": {\n        \"dtype\": \"number\",\n        \"std\": 0.5012857394224445,\n        \"min\": -0.4019784661686742,\n        \"max\": 2.017432299277991,\n        \"num_unique_values\": 385,\n        \"samples\": [\n          0.1689387921959136,\n          0.9859828671614822,\n          0.9664075750586516\n        ],\n        \"semantic_type\": \"\",\n        \"description\": \"\"\n      }\n    },\n    {\n      \"column\": \"lmax_boxcox\",\n      \"properties\": {\n        \"dtype\": \"number\",\n        \"std\": 0.060578331824322394,\n        \"min\": 1.3393997468656882,\n        \"max\": 1.660591864864318,\n        \"num_unique_values\": 89,\n        \"samples\": [\n          1.5486702009653912,\n          1.4428756444545052,\n          1.58981235847205\n        ],\n        \"semantic_type\": \"\",\n        \"description\": \"\"\n      }\n    },\n    {\n      \"column\": \"captura_boxcox\",\n      \"properties\": {\n        \"dtype\": \"number\",\n        \"std\": 0.1444027039227246,\n        \"min\": 0.540334391173276,\n        \"max\": 1.1931439792121328,\n        \"num_unique_values\": 376,\n        \"samples\": [\n          0.7501897132524785,\n          0.9040074441918996,\n          0.8221319254440116\n        ],\n        \"semantic_type\": \"\",\n        \"description\": \"\"\n      }\n    },\n    {\n      \"column\": \"determinismo_boxcox\",\n      \"properties\": {\n        \"dtype\": \"number\",\n        \"std\": 0.026651801420598094,\n        \"min\": -0.1748719165103207,\n        \"max\": -0.013862582748995,\n        \"num_unique_values\": 121,\n        \"samples\": [\n          -0.1041697380348602,\n          -0.0930718737847684,\n          -0.0435862595945701\n        ],\n        \"semantic_type\": \"\",\n        \"description\": \"\"\n      }\n    },\n    {\n      \"column\": \"rec_yj\",\n      \"properties\": {\n        \"dtype\": \"number\",\n        \"std\": 45530.934736988405,\n        \"min\": 1.7085799496355056,\n        \"max\": 135001.76667577657,\n        \"num_unique_values\": 27,\n        \"samples\": [\n          19680.95294154433,\n          25056.86134905652,\n          31893.970964214408\n        ],\n        \"semantic_type\": \"\",\n        \"description\": \"\"\n      }\n    }\n  ]\n}"
            }
          },
          "metadata": {},
          "execution_count": 3
        }
      ]
    },
    {
      "cell_type": "code",
      "source": [
        "X_train, X_test, y_train, y_test = train_test_split(X,y, test_size= 0.2)"
      ],
      "metadata": {
        "id": "y2Zuhg6YFWQq"
      },
      "execution_count": null,
      "outputs": []
    },
    {
      "cell_type": "code",
      "source": [
        "X_train.shape"
      ],
      "metadata": {
        "colab": {
          "base_uri": "https://localhost:8080/"
        },
        "id": "QbmxfXWCFX-4",
        "outputId": "5723198b-e5ee-450e-caba-7d3c551a2b69"
      },
      "execution_count": null,
      "outputs": [
        {
          "output_type": "execute_result",
          "data": {
            "text/plain": [
              "(326, 13)"
            ]
          },
          "metadata": {},
          "execution_count": 4
        }
      ]
    },
    {
      "cell_type": "code",
      "source": [
        "forest = RandomForestClassifier(\n",
        "                                random_state = 42,\n",
        "                                n_jobs = -1,\n",
        "                                max_depth = 5,\n",
        "                                n_estimators = 500,\n",
        "                                min_samples_leaf=2,\n",
        "                                oob_score= True\n",
        "                                  )\n",
        "from sklearn.model_selection import cross_val_score\n",
        "cv = cross_val_score(forest, X_train, y_train, cv=5, verbose = 5)\n",
        "print(cv)\n",
        "print(np.mean(cv))"
      ],
      "metadata": {
        "colab": {
          "base_uri": "https://localhost:8080/"
        },
        "id": "wS_ezdMoFZ0y",
        "outputId": "dcbd59ff-68ef-41b6-d82b-26d6b34a17bc"
      },
      "execution_count": null,
      "outputs": [
        {
          "output_type": "stream",
          "name": "stdout",
          "text": [
            "[CV] END ................................ score: (test=0.742) total time=   2.1s\n",
            "[CV] END ................................ score: (test=0.677) total time=   1.8s\n",
            "[CV] END ................................ score: (test=0.785) total time=   1.6s\n",
            "[CV] END ................................ score: (test=0.646) total time=   1.8s\n",
            "[CV] END ................................ score: (test=0.662) total time=   1.4s\n",
            "[0.74242424 0.67692308 0.78461538 0.64615385 0.66153846]\n",
            "0.7023310023310023\n"
          ]
        }
      ]
    },
    {
      "cell_type": "code",
      "source": [
        "print(\"puntajes validación cruzada: \",(cv)*100,)\n",
        "print(\"puntaje promedio validación cruzada: \",np.mean(cv)*100,\"%\")"
      ],
      "metadata": {
        "colab": {
          "base_uri": "https://localhost:8080/"
        },
        "id": "5ybSUUxseSh6",
        "outputId": "594d1f3b-02b5-4a48-d444-1f78029591c1"
      },
      "execution_count": null,
      "outputs": [
        {
          "output_type": "stream",
          "name": "stdout",
          "text": [
            "puntajes validación cruzada:  [74.24242424 67.69230769 78.46153846 64.61538462 66.15384615] %\n",
            "puntaje promedio validación cruzada:  70.23310023310023 %\n"
          ]
        }
      ]
    },
    {
      "cell_type": "code",
      "source": [
        "forest.fit(X_train,y_train)"
      ],
      "metadata": {
        "colab": {
          "base_uri": "https://localhost:8080/",
          "height": 92
        },
        "id": "TBxbohv2ZfWW",
        "outputId": "48ba742c-af90-4d05-d10f-432b2013e470"
      },
      "execution_count": null,
      "outputs": [
        {
          "output_type": "execute_result",
          "data": {
            "text/plain": [
              "RandomForestClassifier(max_depth=5, min_samples_leaf=2, n_estimators=500,\n",
              "                       n_jobs=-1, oob_score=True, random_state=42)"
            ],
            "text/html": [
              "<style>#sk-container-id-9 {color: black;background-color: white;}#sk-container-id-9 pre{padding: 0;}#sk-container-id-9 div.sk-toggleable {background-color: white;}#sk-container-id-9 label.sk-toggleable__label {cursor: pointer;display: block;width: 100%;margin-bottom: 0;padding: 0.3em;box-sizing: border-box;text-align: center;}#sk-container-id-9 label.sk-toggleable__label-arrow:before {content: \"▸\";float: left;margin-right: 0.25em;color: #696969;}#sk-container-id-9 label.sk-toggleable__label-arrow:hover:before {color: black;}#sk-container-id-9 div.sk-estimator:hover label.sk-toggleable__label-arrow:before {color: black;}#sk-container-id-9 div.sk-toggleable__content {max-height: 0;max-width: 0;overflow: hidden;text-align: left;background-color: #f0f8ff;}#sk-container-id-9 div.sk-toggleable__content pre {margin: 0.2em;color: black;border-radius: 0.25em;background-color: #f0f8ff;}#sk-container-id-9 input.sk-toggleable__control:checked~div.sk-toggleable__content {max-height: 200px;max-width: 100%;overflow: auto;}#sk-container-id-9 input.sk-toggleable__control:checked~label.sk-toggleable__label-arrow:before {content: \"▾\";}#sk-container-id-9 div.sk-estimator input.sk-toggleable__control:checked~label.sk-toggleable__label {background-color: #d4ebff;}#sk-container-id-9 div.sk-label input.sk-toggleable__control:checked~label.sk-toggleable__label {background-color: #d4ebff;}#sk-container-id-9 input.sk-hidden--visually {border: 0;clip: rect(1px 1px 1px 1px);clip: rect(1px, 1px, 1px, 1px);height: 1px;margin: -1px;overflow: hidden;padding: 0;position: absolute;width: 1px;}#sk-container-id-9 div.sk-estimator {font-family: monospace;background-color: #f0f8ff;border: 1px dotted black;border-radius: 0.25em;box-sizing: border-box;margin-bottom: 0.5em;}#sk-container-id-9 div.sk-estimator:hover {background-color: #d4ebff;}#sk-container-id-9 div.sk-parallel-item::after {content: \"\";width: 100%;border-bottom: 1px solid gray;flex-grow: 1;}#sk-container-id-9 div.sk-label:hover label.sk-toggleable__label {background-color: #d4ebff;}#sk-container-id-9 div.sk-serial::before {content: \"\";position: absolute;border-left: 1px solid gray;box-sizing: border-box;top: 0;bottom: 0;left: 50%;z-index: 0;}#sk-container-id-9 div.sk-serial {display: flex;flex-direction: column;align-items: center;background-color: white;padding-right: 0.2em;padding-left: 0.2em;position: relative;}#sk-container-id-9 div.sk-item {position: relative;z-index: 1;}#sk-container-id-9 div.sk-parallel {display: flex;align-items: stretch;justify-content: center;background-color: white;position: relative;}#sk-container-id-9 div.sk-item::before, #sk-container-id-9 div.sk-parallel-item::before {content: \"\";position: absolute;border-left: 1px solid gray;box-sizing: border-box;top: 0;bottom: 0;left: 50%;z-index: -1;}#sk-container-id-9 div.sk-parallel-item {display: flex;flex-direction: column;z-index: 1;position: relative;background-color: white;}#sk-container-id-9 div.sk-parallel-item:first-child::after {align-self: flex-end;width: 50%;}#sk-container-id-9 div.sk-parallel-item:last-child::after {align-self: flex-start;width: 50%;}#sk-container-id-9 div.sk-parallel-item:only-child::after {width: 0;}#sk-container-id-9 div.sk-dashed-wrapped {border: 1px dashed gray;margin: 0 0.4em 0.5em 0.4em;box-sizing: border-box;padding-bottom: 0.4em;background-color: white;}#sk-container-id-9 div.sk-label label {font-family: monospace;font-weight: bold;display: inline-block;line-height: 1.2em;}#sk-container-id-9 div.sk-label-container {text-align: center;}#sk-container-id-9 div.sk-container {/* jupyter's `normalize.less` sets `[hidden] { display: none; }` but bootstrap.min.css set `[hidden] { display: none !important; }` so we also need the `!important` here to be able to override the default hidden behavior on the sphinx rendered scikit-learn.org. See: https://github.com/scikit-learn/scikit-learn/issues/21755 */display: inline-block !important;position: relative;}#sk-container-id-9 div.sk-text-repr-fallback {display: none;}</style><div id=\"sk-container-id-9\" class=\"sk-top-container\"><div class=\"sk-text-repr-fallback\"><pre>RandomForestClassifier(max_depth=5, min_samples_leaf=2, n_estimators=500,\n",
              "                       n_jobs=-1, oob_score=True, random_state=42)</pre><b>In a Jupyter environment, please rerun this cell to show the HTML representation or trust the notebook. <br />On GitHub, the HTML representation is unable to render, please try loading this page with nbviewer.org.</b></div><div class=\"sk-container\" hidden><div class=\"sk-item\"><div class=\"sk-estimator sk-toggleable\"><input class=\"sk-toggleable__control sk-hidden--visually\" id=\"sk-estimator-id-9\" type=\"checkbox\" checked><label for=\"sk-estimator-id-9\" class=\"sk-toggleable__label sk-toggleable__label-arrow\">RandomForestClassifier</label><div class=\"sk-toggleable__content\"><pre>RandomForestClassifier(max_depth=5, min_samples_leaf=2, n_estimators=500,\n",
              "                       n_jobs=-1, oob_score=True, random_state=42)</pre></div></div></div></div></div>"
            ]
          },
          "metadata": {},
          "execution_count": 45
        }
      ]
    },
    {
      "cell_type": "code",
      "source": [
        "forest.oob_score_"
      ],
      "metadata": {
        "colab": {
          "base_uri": "https://localhost:8080/"
        },
        "id": "rV0Q9IpqFbHq",
        "outputId": "590ec007-5c48-4ab0-f21d-31379da0e324"
      },
      "execution_count": null,
      "outputs": [
        {
          "output_type": "execute_result",
          "data": {
            "text/plain": [
              "0.6901840490797546"
            ]
          },
          "metadata": {},
          "execution_count": 46
        }
      ]
    },
    {
      "cell_type": "code",
      "source": [
        "train_score = forest.score(X_train,y_train)\n",
        "test_score = forest.score(X_test,y_test)\n",
        "print(' training score: {:.3f}'.format(train_score))\n",
        "print(' test score: {:.3f} \\n'.format(test_score))"
      ],
      "metadata": {
        "colab": {
          "base_uri": "https://localhost:8080/"
        },
        "id": "2K3Vuxh9Fc9w",
        "outputId": "f7978ef9-fc5b-4a84-d914-c130f8322cba"
      },
      "execution_count": null,
      "outputs": [
        {
          "output_type": "stream",
          "name": "stdout",
          "text": [
            " training score: 0.911\n",
            " test score: 0.756 \n",
            "\n"
          ]
        }
      ]
    },
    {
      "cell_type": "code",
      "source": [
        "result_forest = forest.predict(X_test)\n",
        "exactitud_forest = accuracy_score(y_test,result_forest)\n",
        "precision_forest = precision_score(y_test,result_forest,average = 'weighted')\n",
        "f1_forest = f1_score(y_test,result_forest,average = 'weighted')\n",
        "conf_mat_forest = confusion_matrix(y_test,result_forest)\n",
        "print('exactitud bosque:{:.2f} %'.format(exactitud_forest*100))\n",
        "print('precision bosque:{:.2f} %'.format(precision_forest*100))\n",
        "print('puntaje f1 bosque:{:.2f} %'.format(f1_forest*100))\n",
        "sns.heatmap(conf_mat_forest, annot = True, cmap='Blues', fmt='d')"
      ],
      "metadata": {
        "colab": {
          "base_uri": "https://localhost:8080/",
          "height": 499
        },
        "id": "bQq_v5MBFen-",
        "outputId": "9bf19aa0-09a9-4c28-a38c-908618c42c86"
      },
      "execution_count": null,
      "outputs": [
        {
          "output_type": "stream",
          "name": "stdout",
          "text": [
            "exactitud bosque:75.61 %\n",
            "precision bosque:75.92 %\n",
            "puntaje f1 bosque:75.66 %\n"
          ]
        },
        {
          "output_type": "execute_result",
          "data": {
            "text/plain": [
              "<Axes: >"
            ]
          },
          "metadata": {},
          "execution_count": 49
        },
        {
          "output_type": "display_data",
          "data": {
            "text/plain": [
              "<Figure size 640x480 with 2 Axes>"
            ],
            "image/png": "[encoded data removed]"
          },
          "metadata": {}
        }
      ]
    },
    {
      "cell_type": "code",
      "source": [
        "nombre = 'bosque_multiclase_5min.joblib'\n",
        "joblib.dump(forest, nombre)"
      ],
      "metadata": {
        "id": "0UHd_jsRFhI6",
        "colab": {
          "base_uri": "https://localhost:8080/"
        },
        "outputId": "94f88c49-f417-4b79-9101-b6ffdaf7eba6"
      },
      "execution_count": null,
      "outputs": [
        {
          "output_type": "execute_result",
          "data": {
            "text/plain": [
              "['bosque_multiclase_5min.joblib']"
            ]
          },
          "metadata": {},
          "execution_count": 50
        }
      ]
    },
    {
      "cell_type": "code",
      "source": [],
      "metadata": {
        "id": "MOa2siBgbImQ"
      },
      "execution_count": null,
      "outputs": []
    }
  ]
}