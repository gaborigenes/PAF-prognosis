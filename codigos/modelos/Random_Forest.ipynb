{
  "cells": [
    {
      "cell_type": "code",
      "execution_count": null,
      "metadata": {
        "id": "Z9x9fX1byIiB"
      },
      "outputs": [],
      "source": [
        "import numpy as np\n",
        "import pandas as pd\n",
        "import matplotlib.pyplot as plt\n",
        "import seaborn as sns\n",
        "from sklearn.model_selection import train_test_split\n",
        "from sklearn.ensemble import RandomForestClassifier\n",
        "from sklearn.model_selection import GridSearchCV\n",
        "from sklearn.tree import plot_tree\n",
        "from sklearn.metrics import (\n",
        "    accuracy_score,\n",
        "    f1_score,\n",
        "    confusion_matrix,\n",
        "    precision_score,\n",
        "    recall_score,\n",
        "    )\n",
        "%matplotlib inline\n",
        "import joblib"
      ]
    },
    {
      "cell_type": "code",
      "execution_count": null,
      "metadata": {
        "id": "uT6w3bxXyJ8y"
      },
      "outputs": [],
      "source": [
        "df = pd.read_csv('30min_normalizado.csv')\n",
        "X = df.drop(['Unnamed: 0', 'rr_mean_boxcox','rmssd_boxcox','pnn50_sqrt','sd1_boxcox','lmean_boxcox','entropia_boxcox','captura_boxcox','determinismo_boxcox','etiqueta'], axis=1)\n",
        "y = df['etiqueta']"
      ]
    },
    {
      "cell_type": "code",
      "execution_count": null,
      "metadata": {
        "colab": {
          "base_uri": "https://localhost:8080/",
          "height": 226
        },
        "id": "H6MPLybjt9BH",
        "outputId": "8096f203-989f-4dbf-cc47-7323602ea140"
      },
      "outputs": [
        {
          "output_type": "execute_result",
          "data": {
            "text/plain": [
              "   sdrr_boxcox  sdsd_boxcox  dam_boxcox  vlf_boxcox  lf_boxcox  hf_boxcox  \\\n",
              "0     6.365516     3.916287   -2.539109   10.658071   9.522265   6.013197   \n",
              "1     4.246743     2.251459   -2.726538    7.356591   4.909290   3.938874   \n",
              "2     6.133222     2.250073   -2.492057   10.408814  11.986336   3.969760   \n",
              "3     4.762646     2.228707   -2.820842    9.963093   9.165494   4.058886   \n",
              "4     7.632044     3.667690   -2.200231   15.842058  16.061066   8.173227   \n",
              "\n",
              "   lfhf_boxcox  sd2_boxcox  sd12_boxcox  rec_boxcox  lmax_boxcox  nn50_sqrt  \n",
              "0     0.153883    6.970540     0.565581   -0.392455     3.109776  16.124515  \n",
              "1    -0.136470    4.836550     0.931888   -0.392482     2.694560   2.236068  \n",
              "2     3.231822    7.090340     2.432202   -0.393050     3.071717   3.605551  \n",
              "3     1.805593    5.497699     1.405276   -0.392344     2.583562   2.000000  \n",
              "4     0.485648    8.655609     1.397437   -0.392344     2.742250  23.021729  "
            ],
            "text/html": [
              "\n",
              "  <div id=\"df-87416a20-6041-48e9-bf2c-507532237bfb\" class=\"colab-df-container\">\n",
              "    <div>\n",
              "<style scoped>\n",
              "    .dataframe tbody tr th:only-of-type {\n",
              "        vertical-align: middle;\n",
              "    }\n",
              "\n",
              "    .dataframe tbody tr th {\n",
              "        vertical-align: top;\n",
              "    }\n",
              "\n",
              "    .dataframe thead th {\n",
              "        text-align: right;\n",
              "    }\n",
              "</style>\n",
              "<table border=\"1\" class=\"dataframe\">\n",
              "  <thead>\n",
              "    <tr style=\"text-align: right;\">\n",
              "      <th></th>\n",
              "      <th>sdrr_boxcox</th>\n",
              "      <th>sdsd_boxcox</th>\n",
              "      <th>dam_boxcox</th>\n",
              "      <th>vlf_boxcox</th>\n",
              "      <th>lf_boxcox</th>\n",
              "      <th>hf_boxcox</th>\n",
              "      <th>lfhf_boxcox</th>\n",
              "      <th>sd2_boxcox</th>\n",
              "      <th>sd12_boxcox</th>\n",
              "      <th>rec_boxcox</th>\n",
              "      <th>lmax_boxcox</th>\n",
              "      <th>nn50_sqrt</th>\n",
              "    </tr>\n",
              "  </thead>\n",
              "  <tbody>\n",
              "    <tr>\n",
              "      <th>0</th>\n",
              "      <td>6.365516</td>\n",
              "      <td>3.916287</td>\n",
              "      <td>-2.539109</td>\n",
              "      <td>10.658071</td>\n",
              "      <td>9.522265</td>\n",
              "      <td>6.013197</td>\n",
              "      <td>0.153883</td>\n",
              "      <td>6.970540</td>\n",
              "      <td>0.565581</td>\n",
              "      <td>-0.392455</td>\n",
              "      <td>3.109776</td>\n",
              "      <td>16.124515</td>\n",
              "    </tr>\n",
              "    <tr>\n",
              "      <th>1</th>\n",
              "      <td>4.246743</td>\n",
              "      <td>2.251459</td>\n",
              "      <td>-2.726538</td>\n",
              "      <td>7.356591</td>\n",
              "      <td>4.909290</td>\n",
              "      <td>3.938874</td>\n",
              "      <td>-0.136470</td>\n",
              "      <td>4.836550</td>\n",
              "      <td>0.931888</td>\n",
              "      <td>-0.392482</td>\n",
              "      <td>2.694560</td>\n",
              "      <td>2.236068</td>\n",
              "    </tr>\n",
              "    <tr>\n",
              "      <th>2</th>\n",
              "      <td>6.133222</td>\n",
              "      <td>2.250073</td>\n",
              "      <td>-2.492057</td>\n",
              "      <td>10.408814</td>\n",
              "      <td>11.986336</td>\n",
              "      <td>3.969760</td>\n",
              "      <td>3.231822</td>\n",
              "      <td>7.090340</td>\n",
              "      <td>2.432202</td>\n",
              "      <td>-0.393050</td>\n",
              "      <td>3.071717</td>\n",
              "      <td>3.605551</td>\n",
              "    </tr>\n",
              "    <tr>\n",
              "      <th>3</th>\n",
              "      <td>4.762646</td>\n",
              "      <td>2.228707</td>\n",
              "      <td>-2.820842</td>\n",
              "      <td>9.963093</td>\n",
              "      <td>9.165494</td>\n",
              "      <td>4.058886</td>\n",
              "      <td>1.805593</td>\n",
              "      <td>5.497699</td>\n",
              "      <td>1.405276</td>\n",
              "      <td>-0.392344</td>\n",
              "      <td>2.583562</td>\n",
              "      <td>2.000000</td>\n",
              "    </tr>\n",
              "    <tr>\n",
              "      <th>4</th>\n",
              "      <td>7.632044</td>\n",
              "      <td>3.667690</td>\n",
              "      <td>-2.200231</td>\n",
              "      <td>15.842058</td>\n",
              "      <td>16.061066</td>\n",
              "      <td>8.173227</td>\n",
              "      <td>0.485648</td>\n",
              "      <td>8.655609</td>\n",
              "      <td>1.397437</td>\n",
              "      <td>-0.392344</td>\n",
              "      <td>2.742250</td>\n",
              "      <td>23.021729</td>\n",
              "    </tr>\n",
              "  </tbody>\n",
              "</table>\n",
              "</div>\n",
              "    <div class=\"colab-df-buttons\">\n",
              "\n",
              "  <div class=\"colab-df-container\">\n",
              "    <button class=\"colab-df-convert\" onclick=\"convertToInteractive('df-87416a20-6041-48e9-bf2c-507532237bfb')\"\n",
              "            title=\"Convert this dataframe to an interactive table.\"\n",
              "            style=\"display:none;\">\n",
              "\n",
              "  <svg xmlns=\"http://www.w3.org/2000/svg\" height=\"24px\" viewBox=\"0 -960 960 960\">\n",
              "    <path d=\"M120-120v-720h720v720H120Zm60-500h600v-160H180v160Zm220 220h160v-160H400v160Zm0 220h160v-160H400v160ZM180-400h160v-160H180v160Zm440 0h160v-160H620v160ZM180-180h160v-160H180v160Zm440 0h160v-160H620v160Z\"/>\n",
              "  </svg>\n",
              "    </button>\n",
              "\n",
              "  <style>\n",
              "    .colab-df-container {\n",
              "      display:flex;\n",
              "      gap: 12px;\n",
              "    }\n",
              "\n",
              "    .colab-df-convert {\n",
              "      background-color: #E8F0FE;\n",
              "      border: none;\n",
              "      border-radius: 50%;\n",
              "      cursor: pointer;\n",
              "      display: none;\n",
              "      fill: #1967D2;\n",
              "      height: 32px;\n",
              "      padding: 0 0 0 0;\n",
              "      width: 32px;\n",
              "    }\n",
              "\n",
              "    .colab-df-convert:hover {\n",
              "      background-color: #E2EBFA;\n",
              "      box-shadow: 0px 1px 2px rgba(60, 64, 67, 0.3), 0px 1px 3px 1px rgba(60, 64, 67, 0.15);\n",
              "      fill: #174EA6;\n",
              "    }\n",
              "\n",
              "    .colab-df-buttons div {\n",
              "      margin-bottom: 4px;\n",
              "    }\n",
              "\n",
              "    [theme=dark] .colab-df-convert {\n",
              "      background-color: #3B4455;\n",
              "      fill: #D2E3FC;\n",
              "    }\n",
              "\n",
              "    [theme=dark] .colab-df-convert:hover {\n",
              "      background-color: #434B5C;\n",
              "      box-shadow: 0px 1px 3px 1px rgba(0, 0, 0, 0.15);\n",
              "      filter: drop-shadow(0px 1px 2px rgba(0, 0, 0, 0.3));\n",
              "      fill: #FFFFFF;\n",
              "    }\n",
              "  </style>\n",
              "\n",
              "    <script>\n",
              "      const buttonEl =\n",
              "        document.querySelector('#df-87416a20-6041-48e9-bf2c-507532237bfb button.colab-df-convert');\n",
              "      buttonEl.style.display =\n",
              "        google.colab.kernel.accessAllowed ? 'block' : 'none';\n",
              "\n",
              "      async function convertToInteractive(key) {\n",
              "        const element = document.querySelector('#df-87416a20-6041-48e9-bf2c-507532237bfb');\n",
              "        const dataTable =\n",
              "          await google.colab.kernel.invokeFunction('convertToInteractive',\n",
              "                                                    [key], {});\n",
              "        if (!dataTable) return;\n",
              "\n",
              "        const docLinkHtml = 'Like what you see? Visit the ' +\n",
              "          '<a target=\"_blank\" href=https://colab.research.google.com/notebooks/data_table.ipynb>data table notebook</a>'\n",
              "          + ' to learn more about interactive tables.';\n",
              "        element.innerHTML = '';\n",
              "        dataTable['output_type'] = 'display_data';\n",
              "        await google.colab.output.renderOutput(dataTable, element);\n",
              "        const docLink = document.createElement('div');\n",
              "        docLink.innerHTML = docLinkHtml;\n",
              "        element.appendChild(docLink);\n",
              "      }\n",
              "    </script>\n",
              "  </div>\n",
              "\n",
              "\n",
              "<div id=\"df-d008f106-bb49-47aa-8a48-13f000e90643\">\n",
              "  <button class=\"colab-df-quickchart\" onclick=\"quickchart('df-d008f106-bb49-47aa-8a48-13f000e90643')\"\n",
              "            title=\"Suggest charts\"\n",
              "            style=\"display:none;\">\n",
              "\n",
              "<svg xmlns=\"http://www.w3.org/2000/svg\" height=\"24px\"viewBox=\"0 0 24 24\"\n",
              "     width=\"24px\">\n",
              "    <g>\n",
              "        <path d=\"M19 3H5c-1.1 0-2 .9-2 2v14c0 1.1.9 2 2 2h14c1.1 0 2-.9 2-2V5c0-1.1-.9-2-2-2zM9 17H7v-7h2v7zm4 0h-2V7h2v10zm4 0h-2v-4h2v4z\"/>\n",
              "    </g>\n",
              "</svg>\n",
              "  </button>\n",
              "\n",
              "<style>\n",
              "  .colab-df-quickchart {\n",
              "      --bg-color: #E8F0FE;\n",
              "      --fill-color: #1967D2;\n",
              "      --hover-bg-color: #E2EBFA;\n",
              "      --hover-fill-color: #174EA6;\n",
              "      --disabled-fill-color: #AAA;\n",
              "      --disabled-bg-color: #DDD;\n",
              "  }\n",
              "\n",
              "  [theme=dark] .colab-df-quickchart {\n",
              "      --bg-color: #3B4455;\n",
              "      --fill-color: #D2E3FC;\n",
              "      --hover-bg-color: #434B5C;\n",
              "      --hover-fill-color: #FFFFFF;\n",
              "      --disabled-bg-color: #3B4455;\n",
              "      --disabled-fill-color: #666;\n",
              "  }\n",
              "\n",
              "  .colab-df-quickchart {\n",
              "    background-color: var(--bg-color);\n",
              "    border: none;\n",
              "    border-radius: 50%;\n",
              "    cursor: pointer;\n",
              "    display: none;\n",
              "    fill: var(--fill-color);\n",
              "    height: 32px;\n",
              "    padding: 0;\n",
              "    width: 32px;\n",
              "  }\n",
              "\n",
              "  .colab-df-quickchart:hover {\n",
              "    background-color: var(--hover-bg-color);\n",
              "    box-shadow: 0 1px 2px rgba(60, 64, 67, 0.3), 0 1px 3px 1px rgba(60, 64, 67, 0.15);\n",
              "    fill: var(--button-hover-fill-color);\n",
              "  }\n",
              "\n",
              "  .colab-df-quickchart-complete:disabled,\n",
              "  .colab-df-quickchart-complete:disabled:hover {\n",
              "    background-color: var(--disabled-bg-color);\n",
              "    fill: var(--disabled-fill-color);\n",
              "    box-shadow: none;\n",
              "  }\n",
              "\n",
              "  .colab-df-spinner {\n",
              "    border: 2px solid var(--fill-color);\n",
              "    border-color: transparent;\n",
              "    border-bottom-color: var(--fill-color);\n",
              "    animation:\n",
              "      spin 1s steps(1) infinite;\n",
              "  }\n",
              "\n",
              "  @keyframes spin {\n",
              "    0% {\n",
              "      border-color: transparent;\n",
              "      border-bottom-color: var(--fill-color);\n",
              "      border-left-color: var(--fill-color);\n",
              "    }\n",
              "    20% {\n",
              "      border-color: transparent;\n",
              "      border-left-color: var(--fill-color);\n",
              "      border-top-color: var(--fill-color);\n",
              "    }\n",
              "    30% {\n",
              "      border-color: transparent;\n",
              "      border-left-color: var(--fill-color);\n",
              "      border-top-color: var(--fill-color);\n",
              "      border-right-color: var(--fill-color);\n",
              "    }\n",
              "    40% {\n",
              "      border-color: transparent;\n",
              "      border-right-color: var(--fill-color);\n",
              "      border-top-color: var(--fill-color);\n",
              "    }\n",
              "    60% {\n",
              "      border-color: transparent;\n",
              "      border-right-color: var(--fill-color);\n",
              "    }\n",
              "    80% {\n",
              "      border-color: transparent;\n",
              "      border-right-color: var(--fill-color);\n",
              "      border-bottom-color: var(--fill-color);\n",
              "    }\n",
              "    90% {\n",
              "      border-color: transparent;\n",
              "      border-bottom-color: var(--fill-color);\n",
              "    }\n",
              "  }\n",
              "</style>\n",
              "\n",
              "  <script>\n",
              "    async function quickchart(key) {\n",
              "      const quickchartButtonEl =\n",
              "        document.querySelector('#' + key + ' button');\n",
              "      quickchartButtonEl.disabled = true;  // To prevent multiple clicks.\n",
              "      quickchartButtonEl.classList.add('colab-df-spinner');\n",
              "      try {\n",
              "        const charts = await google.colab.kernel.invokeFunction(\n",
              "            'suggestCharts', [key], {});\n",
              "      } catch (error) {\n",
              "        console.error('Error during call to suggestCharts:', error);\n",
              "      }\n",
              "      quickchartButtonEl.classList.remove('colab-df-spinner');\n",
              "      quickchartButtonEl.classList.add('colab-df-quickchart-complete');\n",
              "    }\n",
              "    (() => {\n",
              "      let quickchartButtonEl =\n",
              "        document.querySelector('#df-d008f106-bb49-47aa-8a48-13f000e90643 button');\n",
              "      quickchartButtonEl.style.display =\n",
              "        google.colab.kernel.accessAllowed ? 'block' : 'none';\n",
              "    })();\n",
              "  </script>\n",
              "</div>\n",
              "\n",
              "    </div>\n",
              "  </div>\n"
            ],
            "application/vnd.google.colaboratory.intrinsic+json": {
              "type": "dataframe",
              "variable_name": "X",
              "summary": "{\n  \"name\": \"X\",\n  \"rows\": 82,\n  \"fields\": [\n    {\n      \"column\": \"sdrr_boxcox\",\n      \"properties\": {\n        \"dtype\": \"number\",\n        \"std\": 1.7512372536723462,\n        \"min\": 2.606170288530314,\n        \"max\": 10.413637819737405,\n        \"num_unique_values\": 81,\n        \"samples\": [\n          2.606170288530314,\n          6.365515607727466,\n          6.0410578435093205\n        ],\n        \"semantic_type\": \"\",\n        \"description\": \"\"\n      }\n    },\n    {\n      \"column\": \"sdsd_boxcox\",\n      \"properties\": {\n        \"dtype\": \"number\",\n        \"std\": 0.6967170707129916,\n        \"min\": 1.5750539925567044,\n        \"max\": 4.673917372375928,\n        \"num_unique_values\": 81,\n        \"samples\": [\n          1.5750539925567044,\n          3.916286869469068,\n          2.801380959943319\n        ],\n        \"semantic_type\": \"\",\n        \"description\": \"\"\n      }\n    },\n    {\n      \"column\": \"dam_boxcox\",\n      \"properties\": {\n        \"dtype\": \"number\",\n        \"std\": 0.4781857063158296,\n        \"min\": -3.3250298272399985,\n        \"max\": -1.2216820903563617,\n        \"num_unique_values\": 62,\n        \"samples\": [\n          -1.8289753725122355,\n          -1.6129432761435545,\n          -2.5391092086055544\n        ],\n        \"semantic_type\": \"\",\n        \"description\": \"\"\n      }\n    },\n    {\n      \"column\": \"vlf_boxcox\",\n      \"properties\": {\n        \"dtype\": \"number\",\n        \"std\": 4.4692141828080025,\n        \"min\": 1.705494534372744,\n        \"max\": 20.904946410709098,\n        \"num_unique_values\": 81,\n        \"samples\": [\n          1.705494534372744,\n          10.658070728978126,\n          11.770003774508082\n        ],\n        \"semantic_type\": \"\",\n        \"description\": \"\"\n      }\n    },\n    {\n      \"column\": \"lf_boxcox\",\n      \"properties\": {\n        \"dtype\": \"number\",\n        \"std\": 4.944689939607567,\n        \"min\": 1.3813906540718144,\n        \"max\": 22.35881131969054,\n        \"num_unique_values\": 81,\n        \"samples\": [\n          1.3813906540718144,\n          9.522265381774265,\n          13.60172343079339\n        ],\n        \"semantic_type\": \"\",\n        \"description\": \"\"\n      }\n    },\n    {\n      \"column\": \"hf_boxcox\",\n      \"properties\": {\n        \"dtype\": \"number\",\n        \"std\": 1.8922416087112683,\n        \"min\": 2.251357501033796,\n        \"max\": 10.70138807303901,\n        \"num_unique_values\": 81,\n        \"samples\": [\n          2.642885993907768,\n          6.013196991459952,\n          5.984002734225212\n        ],\n        \"semantic_type\": \"\",\n        \"description\": \"\"\n      }\n    },\n    {\n      \"column\": \"lfhf_boxcox\",\n      \"properties\": {\n        \"dtype\": \"number\",\n        \"std\": 1.093120742843757,\n        \"min\": -2.235778478941955,\n        \"max\": 3.4014017821163147,\n        \"num_unique_values\": 81,\n        \"samples\": [\n          -1.1250216906913366,\n          0.1538831136244879,\n          1.623365876490877\n        ],\n        \"semantic_type\": \"\",\n        \"description\": \"\"\n      }\n    },\n    {\n      \"column\": \"sd2_boxcox\",\n      \"properties\": {\n        \"dtype\": \"number\",\n        \"std\": 2.0152035383011375,\n        \"min\": 3.0261093233914638,\n        \"max\": 11.72188707439965,\n        \"num_unique_values\": 81,\n        \"samples\": [\n          3.0261093233914638,\n          6.970540285637981,\n          6.920268276493745\n        ],\n        \"semantic_type\": \"\",\n        \"description\": \"\"\n      }\n    },\n    {\n      \"column\": \"sd12_boxcox\",\n      \"properties\": {\n        \"dtype\": \"number\",\n        \"std\": 0.7461974023763783,\n        \"min\": -0.0709132537400128,\n        \"max\": 3.213159718976758,\n        \"num_unique_values\": 80,\n        \"samples\": [\n          0.7774063143529356,\n          0.565580931890495,\n          1.5209759441003188\n        ],\n        \"semantic_type\": \"\",\n        \"description\": \"\"\n      }\n    },\n    {\n      \"column\": \"rec_boxcox\",\n      \"properties\": {\n        \"dtype\": \"number\",\n        \"std\": 0.00031844237541861584,\n        \"min\": -0.3931110505610148,\n        \"max\": -0.3923438697559341,\n        \"num_unique_values\": 16,\n        \"samples\": [\n          -0.392455325403014,\n          -0.3924820997723038,\n          -0.3925084432077075\n        ],\n        \"semantic_type\": \"\",\n        \"description\": \"\"\n      }\n    },\n    {\n      \"column\": \"lmax_boxcox\",\n      \"properties\": {\n        \"dtype\": \"number\",\n        \"std\": 0.2561592262979563,\n        \"min\": 2.466649661580017,\n        \"max\": 3.521217170579761,\n        \"num_unique_values\": 62,\n        \"samples\": [\n          2.96913179077262,\n          2.989945753128944,\n          3.1097755332633232\n        ],\n        \"semantic_type\": \"\",\n        \"description\": \"\"\n      }\n    },\n    {\n      \"column\": \"nn50_sqrt\",\n      \"properties\": {\n        \"dtype\": \"number\",\n        \"std\": 8.597028441281703,\n        \"min\": 0.0,\n        \"max\": 39.07684736515984,\n        \"num_unique_values\": 70,\n        \"samples\": [\n          9.219544457292889,\n          16.1245154965971,\n          2.449489742783178\n        ],\n        \"semantic_type\": \"\",\n        \"description\": \"\"\n      }\n    }\n  ]\n}"
            }
          },
          "metadata": {},
          "execution_count": 3
        }
      ],
      "source": [
        "X.head()"
      ]
    },
    {
      "cell_type": "code",
      "execution_count": null,
      "metadata": {
        "id": "da1QdSSPt0rw"
      },
      "outputs": [],
      "source": [
        "X_train, X_test, y_train, y_test = train_test_split(X,y, test_size= 0.2, random_state=42)"
      ]
    },
    {
      "cell_type": "code",
      "execution_count": null,
      "metadata": {
        "colab": {
          "base_uri": "https://localhost:8080/"
        },
        "id": "6GElYfo-u3ea",
        "outputId": "bcdac6f6-541a-4288-c833-93ad741b0e4a"
      },
      "outputs": [
        {
          "output_type": "execute_result",
          "data": {
            "text/plain": [
              "(65, 12)"
            ]
          },
          "metadata": {},
          "execution_count": 5
        }
      ],
      "source": [
        "X_train.shape"
      ]
    },
    {
      "cell_type": "code",
      "execution_count": null,
      "metadata": {
        "id": "z1tHtVyl1ZKD"
      },
      "outputs": [],
      "source": [
        "forest = RandomForestClassifier(\n",
        "                                random_state = 42,\n",
        "                                n_jobs = -1,\n",
        "                                max_depth = 2,\n",
        "                                n_estimators = 500,\n",
        "                                oob_score= True\n",
        "                                  )"
      ]
    },
    {
      "cell_type": "code",
      "source": [
        "from sklearn.model_selection import cross_val_score\n",
        "cv = cross_val_score(forest, X_train, y_train, cv=5, verbose = 5)\n",
        "print(cv)\n",
        "print(np.mean(cv))"
      ],
      "metadata": {
        "id": "lUt7QT0vkYK2",
        "outputId": "73918bf3-148c-4067-c7cc-528e87ed3d4a",
        "colab": {
          "base_uri": "https://localhost:8080/"
        }
      },
      "execution_count": null,
      "outputs": [
        {
          "output_type": "stream",
          "name": "stdout",
          "text": [
            "[CV] END ................................ score: (test=0.769) total time=   1.3s\n",
            "[CV] END ................................ score: (test=0.769) total time=   1.2s\n",
            "[CV] END ................................ score: (test=0.692) total time=   1.3s\n",
            "[CV] END ................................ score: (test=0.692) total time=   1.3s\n",
            "[CV] END ................................ score: (test=0.769) total time=   1.3s\n",
            "[0.76923077 0.76923077 0.69230769 0.69230769 0.76923077]\n",
            "0.7384615384615385\n"
          ]
        }
      ]
    },
    {
      "cell_type": "code",
      "source": [
        "print(\"puntajes validación cruzada: \",(cv)*100,)\n",
        "print(\"puntaje promedio validación cruzada: \",np.mean(cv)*100,\"%\")"
      ],
      "metadata": {
        "colab": {
          "base_uri": "https://localhost:8080/"
        },
        "id": "pLh_03NvkU-N",
        "outputId": "2250f981-8c6a-42fb-9953-984c1babe81c"
      },
      "execution_count": null,
      "outputs": [
        {
          "output_type": "stream",
          "name": "stdout",
          "text": [
            "puntajes validación cruzada:  [76.92307692 76.92307692 69.23076923 69.23076923 76.92307692]\n",
            "puntaje promedio validación cruzada:  73.84615384615385 %\n"
          ]
        }
      ]
    },
    {
      "cell_type": "code",
      "source": [
        "forest.fit(X_train,y_train)"
      ],
      "metadata": {
        "id": "Kded8faaZ0yf",
        "colab": {
          "base_uri": "https://localhost:8080/",
          "height": 92
        },
        "outputId": "166564ea-0e11-4485-845e-d0cd9af10f03"
      },
      "execution_count": null,
      "outputs": [
        {
          "output_type": "execute_result",
          "data": {
            "text/plain": [
              "RandomForestClassifier(max_depth=2, n_estimators=500, n_jobs=-1, oob_score=True,\n",
              "                       random_state=42)"
            ],
            "text/html": [
              "<style>#sk-container-id-6 {color: black;background-color: white;}#sk-container-id-6 pre{padding: 0;}#sk-container-id-6 div.sk-toggleable {background-color: white;}#sk-container-id-6 label.sk-toggleable__label {cursor: pointer;display: block;width: 100%;margin-bottom: 0;padding: 0.3em;box-sizing: border-box;text-align: center;}#sk-container-id-6 label.sk-toggleable__label-arrow:before {content: \"▸\";float: left;margin-right: 0.25em;color: #696969;}#sk-container-id-6 label.sk-toggleable__label-arrow:hover:before {color: black;}#sk-container-id-6 div.sk-estimator:hover label.sk-toggleable__label-arrow:before {color: black;}#sk-container-id-6 div.sk-toggleable__content {max-height: 0;max-width: 0;overflow: hidden;text-align: left;background-color: #f0f8ff;}#sk-container-id-6 div.sk-toggleable__content pre {margin: 0.2em;color: black;border-radius: 0.25em;background-color: #f0f8ff;}#sk-container-id-6 input.sk-toggleable__control:checked~div.sk-toggleable__content {max-height: 200px;max-width: 100%;overflow: auto;}#sk-container-id-6 input.sk-toggleable__control:checked~label.sk-toggleable__label-arrow:before {content: \"▾\";}#sk-container-id-6 div.sk-estimator input.sk-toggleable__control:checked~label.sk-toggleable__label {background-color: #d4ebff;}#sk-container-id-6 div.sk-label input.sk-toggleable__control:checked~label.sk-toggleable__label {background-color: #d4ebff;}#sk-container-id-6 input.sk-hidden--visually {border: 0;clip: rect(1px 1px 1px 1px);clip: rect(1px, 1px, 1px, 1px);height: 1px;margin: -1px;overflow: hidden;padding: 0;position: absolute;width: 1px;}#sk-container-id-6 div.sk-estimator {font-family: monospace;background-color: #f0f8ff;border: 1px dotted black;border-radius: 0.25em;box-sizing: border-box;margin-bottom: 0.5em;}#sk-container-id-6 div.sk-estimator:hover {background-color: #d4ebff;}#sk-container-id-6 div.sk-parallel-item::after {content: \"\";width: 100%;border-bottom: 1px solid gray;flex-grow: 1;}#sk-container-id-6 div.sk-label:hover label.sk-toggleable__label {background-color: #d4ebff;}#sk-container-id-6 div.sk-serial::before {content: \"\";position: absolute;border-left: 1px solid gray;box-sizing: border-box;top: 0;bottom: 0;left: 50%;z-index: 0;}#sk-container-id-6 div.sk-serial {display: flex;flex-direction: column;align-items: center;background-color: white;padding-right: 0.2em;padding-left: 0.2em;position: relative;}#sk-container-id-6 div.sk-item {position: relative;z-index: 1;}#sk-container-id-6 div.sk-parallel {display: flex;align-items: stretch;justify-content: center;background-color: white;position: relative;}#sk-container-id-6 div.sk-item::before, #sk-container-id-6 div.sk-parallel-item::before {content: \"\";position: absolute;border-left: 1px solid gray;box-sizing: border-box;top: 0;bottom: 0;left: 50%;z-index: -1;}#sk-container-id-6 div.sk-parallel-item {display: flex;flex-direction: column;z-index: 1;position: relative;background-color: white;}#sk-container-id-6 div.sk-parallel-item:first-child::after {align-self: flex-end;width: 50%;}#sk-container-id-6 div.sk-parallel-item:last-child::after {align-self: flex-start;width: 50%;}#sk-container-id-6 div.sk-parallel-item:only-child::after {width: 0;}#sk-container-id-6 div.sk-dashed-wrapped {border: 1px dashed gray;margin: 0 0.4em 0.5em 0.4em;box-sizing: border-box;padding-bottom: 0.4em;background-color: white;}#sk-container-id-6 div.sk-label label {font-family: monospace;font-weight: bold;display: inline-block;line-height: 1.2em;}#sk-container-id-6 div.sk-label-container {text-align: center;}#sk-container-id-6 div.sk-container {/* jupyter's `normalize.less` sets `[hidden] { display: none; }` but bootstrap.min.css set `[hidden] { display: none !important; }` so we also need the `!important` here to be able to override the default hidden behavior on the sphinx rendered scikit-learn.org. See: https://github.com/scikit-learn/scikit-learn/issues/21755 */display: inline-block !important;position: relative;}#sk-container-id-6 div.sk-text-repr-fallback {display: none;}</style><div id=\"sk-container-id-6\" class=\"sk-top-container\"><div class=\"sk-text-repr-fallback\"><pre>RandomForestClassifier(max_depth=2, n_estimators=500, n_jobs=-1, oob_score=True,\n",
              "                       random_state=42)</pre><b>In a Jupyter environment, please rerun this cell to show the HTML representation or trust the notebook. <br />On GitHub, the HTML representation is unable to render, please try loading this page with nbviewer.org.</b></div><div class=\"sk-container\" hidden><div class=\"sk-item\"><div class=\"sk-estimator sk-toggleable\"><input class=\"sk-toggleable__control sk-hidden--visually\" id=\"sk-estimator-id-6\" type=\"checkbox\" checked><label for=\"sk-estimator-id-6\" class=\"sk-toggleable__label sk-toggleable__label-arrow\">RandomForestClassifier</label><div class=\"sk-toggleable__content\"><pre>RandomForestClassifier(max_depth=2, n_estimators=500, n_jobs=-1, oob_score=True,\n",
              "                       random_state=42)</pre></div></div></div></div></div>"
            ]
          },
          "metadata": {},
          "execution_count": 26
        }
      ]
    },
    {
      "cell_type": "code",
      "source": [
        "forest.oob_score_\n",
        "train_score = forest.score(X_train,y_train)\n",
        "test_score = forest.score(X_test,y_test)\n",
        "print(' training score: {:.3f}'.format(train_score))\n",
        "print(' test score: {:.3f} \\n'.format(test_score))"
      ],
      "metadata": {
        "id": "mw4V-rqMw7Hx",
        "colab": {
          "base_uri": "https://localhost:8080/"
        },
        "outputId": "ef2d0811-8f70-471e-bd6a-8db09308cd99"
      },
      "execution_count": null,
      "outputs": [
        {
          "output_type": "stream",
          "name": "stdout",
          "text": [
            " training score: 0.862\n",
            " test score: 0.765 \n",
            "\n"
          ]
        }
      ]
    },
    {
      "cell_type": "code",
      "source": [
        "result_forest = forest.predict(X_test)\n",
        "exactitud_forest = accuracy_score(y_test,result_forest)\n",
        "precision_forest = precision_score(y_test,result_forest,average = 'weighted')\n",
        "f1_forest = f1_score(y_test,result_forest,average = 'weighted')\n",
        "conf_mat_forest = confusion_matrix(y_test,result_forest)\n",
        "print('exactitud bosque:{:.2f} %'.format(exactitud_forest*100))\n",
        "print('precision bosque:{:.2f} %'.format(precision_forest*100))\n",
        "print('puntaje f1 bosque:{:.2f} %'.format(f1_forest*100))\n",
        "sns.heatmap(conf_mat_forest, annot = True, cmap='Blues', fmt='d')"
      ],
      "metadata": {
        "id": "ZJxr6wKbthUS",
        "colab": {
          "base_uri": "https://localhost:8080/",
          "height": 504
        },
        "outputId": "5ce391be-90e0-4799-e061-dde0309d3d61"
      },
      "execution_count": null,
      "outputs": [
        {
          "output_type": "stream",
          "name": "stdout",
          "text": [
            "exactitud bosque:76.47 %\n",
            "precision bosque:80.88 %\n",
            "puntaje f1 bosque:77.65 %\n"
          ]
        },
        {
          "output_type": "execute_result",
          "data": {
            "text/plain": [
              "<Axes: >"
            ]
          },
          "metadata": {},
          "execution_count": 28
        },
        {
          "output_type": "display_data",
          "data": {
            "text/plain": [
              "<Figure size 640x480 with 2 Axes>"
            ],
            "image/png": "[encoded data removed]"
          },
          "metadata": {}
        }
      ]
    },
    {
      "cell_type": "code",
      "execution_count": null,
      "metadata": {
        "colab": {
          "base_uri": "https://localhost:8080/"
        },
        "id": "mkXHwLg65tPQ",
        "outputId": "503c2384-6e73-4a20-b928-8ab906676349"
      },
      "outputs": [
        {
          "output_type": "execute_result",
          "data": {
            "text/plain": [
              "['bosque_multiclase.joblib']"
            ]
          },
          "metadata": {},
          "execution_count": 29
        }
      ],
      "source": [
        "nombre = 'bosque_multiclase.joblib'\n",
        "joblib.dump(forest, nombre)"
      ]
    },
    {
      "cell_type": "code",
      "source": [],
      "metadata": {
        "id": "89BMbliIi-qG"
      },
      "execution_count": null,
      "outputs": []
    }
  ],
  "metadata": {
    "colab": {
      "provenance": []
    },
    "kernelspec": {
      "display_name": "Python 3",
      "name": "python3"
    },
    "language_info": {
      "name": "python"
    }
  },
  "nbformat": 4,
  "nbformat_minor": 0
}